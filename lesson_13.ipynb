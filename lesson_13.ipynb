{
 "cells": [
  {
   "cell_type": "markdown",
   "metadata": {},
   "source": [
    "# Lesson 13\n",
    "\n",
    "# Python for QGIS (PyQGIS)\n",
    "\n",
    "\n",
    "\n",
    "![http://www.pratt.edu/tiny_mce/plugins/imagemanager/files/Light_brown_blue22.jpg](http://www.pratt.edu/tiny_mce/plugins/imagemanager/files/Light_brown_blue22.jpg)\n",
    "\n",
    "# Class Links\n",
    "\n",
    "* [Syllabus](https://docs.google.com/document/d/1KHxT-NkaoXXdSNkK8JlzL2FFgmNoxPQ25fwgtXPnbrY)\n",
    "\n",
    "* [Class Google Spreadsheet](https://docs.google.com/spreadsheets/d/1t481r7HjQBbjNtFOABSOlcckzQhdrh12TCzpSYKurI0/edit?usp=sharing)\n",
    "\n",
    "* [Google Meetup Video Hangout](https://meet.google.com/aym-kxae-bzr)\n",
    "\n",
    "  * For United States Dial +1 \n",
    "    * (669) 220-6376\n",
    "  * Enter this PIN when prompted: \n",
    "    * 891 126 706 #\n",
    "  \n",
    "* [GitHub Organization](https://github.com/pratt-savi-810)\n",
    "\n",
    "* [Slack Organization](https://app.slack.com/client/T01068MA75X/C010J3Q2QET)\n",
    "\n",
    "* [Resources](https://github.com/pratt-savi-810/resources)"
   ]
  },
  {
   "cell_type": "markdown",
   "metadata": {
    "toc": true
   },
   "source": [
    "<h1>Table of Contents<span class=\"tocSkip\"></span></h1>\n",
    "<div class=\"toc\"><ul class=\"toc-item\"><li><span><a href=\"#Lesson-13\" data-toc-modified-id=\"Lesson-13-1\">Lesson 13</a></span></li><li><span><a href=\"#Python-for-QGIS-(PyQGIS)\" data-toc-modified-id=\"Python-for-QGIS-(PyQGIS)-2\">Python for QGIS (PyQGIS)</a></span></li><li><span><a href=\"#Class-Links\" data-toc-modified-id=\"Class-Links-3\">Class Links</a></span></li><li><span><a href=\"#Learning-Objectives\" data-toc-modified-id=\"Learning-Objectives-4\">Learning Objectives</a></span><ul class=\"toc-item\"><li><ul class=\"toc-item\"><li><span><a href=\"#Fork-and-Clone-this-Lesson-Repo\" data-toc-modified-id=\"Fork-and-Clone-this-Lesson-Repo-4.0.1\">Fork and Clone this Lesson Repo</a></span></li></ul></li><li><span><a href=\"#Send-me-via-Slack-3-Options-for-hour-long-one-on-one-meeting-for-this-week.\" data-toc-modified-id=\"Send-me-via-Slack-3-Options-for-hour-long-one-on-one-meeting-for-this-week.-4.1\">Send me via Slack 3 Options for hour-long one-on-one meeting for this week.</a></span></li></ul></li><li><span><a href=\"#How-to-do-Map-Stuff\" data-toc-modified-id=\"How-to-do-Map-Stuff-5\">How to do Map Stuff</a></span></li><li><span><a href=\"#Import-Libraries\" data-toc-modified-id=\"Import-Libraries-6\">Import Libraries</a></span><ul class=\"toc-item\"><li><ul class=\"toc-item\"><li><span><a href=\"#Let's-Download-Natural-Earth's-GeoPackage-to-our-data/-folder.\" data-toc-modified-id=\"Let's-Download-Natural-Earth's-GeoPackage-to-our-data/-folder.-6.0.1\">Let's Download Natural Earth's GeoPackage to our <code>data/</code> folder.</a></span><ul class=\"toc-item\"><li><span><a href=\"#Import-urllib\" data-toc-modified-id=\"Import-urllib-6.0.1.1\">Import <code>urllib</code></a></span></li><li><span><a href=\"#We'll-set-up-our-file-url\" data-toc-modified-id=\"We'll-set-up-our-file-url-6.0.1.2\">We'll set up our file url</a></span></li><li><span><a href=\"#Retrieve-the-.zip-file-with-urllib.request.urlretrieve\" data-toc-modified-id=\"Retrieve-the-.zip-file-with-urllib.request.urlretrieve-6.0.1.3\">Retrieve the .zip file with <code>urllib.request.urlretrieve</code></a></span></li><li><span><a href=\"#Import-zipfile\" data-toc-modified-id=\"Import-zipfile-6.0.1.4\">Import <code>zipfile</code></a></span></li><li><span><a href=\"#create-our-ZipFile-object\" data-toc-modified-id=\"create-our-ZipFile-object-6.0.1.5\">create our <code>ZipFile</code> object</a></span></li><li><span><a href=\"#Extract-the-object\" data-toc-modified-id=\"Extract-the-object-6.0.1.6\">Extract the object</a></span></li></ul></li></ul></li></ul></li><li><span><a href=\"#Let's-Open-up-QGIS-3.x\" data-toc-modified-id=\"Let's-Open-up-QGIS-3.x-7\">Let's Open up QGIS 3.x</a></span><ul class=\"toc-item\"><li><span><a href=\"#PyQGIS-Developer-Cookbook\" data-toc-modified-id=\"PyQGIS-Developer-Cookbook-7.1\"><a href=\"https://docs.qgis.org/testing/en/docs/pyqgis_developer_cookbook/index.html\" target=\"_blank\">PyQGIS Developer Cookbook</a></a></span><ul class=\"toc-item\"><li><span><a href=\"#Cheat-sheet-for-PyQGIS\" data-toc-modified-id=\"Cheat-sheet-for-PyQGIS-7.1.1\"><a href=\"https://docs.qgis.org/testing/en/docs/pyqgis_developer_cookbook/cheat_sheet.html\" target=\"_blank\">Cheat sheet for PyQGIS</a></a></span></li><li><span><a href=\"#QGIS-Python-Console\" data-toc-modified-id=\"QGIS-Python-Console-7.1.2\">QGIS Python Console</a></span><ul class=\"toc-item\"><li><span><a href=\"#Let's-define-the-layer-we-want-to-add\" data-toc-modified-id=\"Let's-define-the-layer-we-want-to-add-7.1.2.1\">Let's define the layer we want to add</a></span></li><li><span><a href=\"#Now-let's-add-the-layer-to-QGIS\" data-toc-modified-id=\"Now-let's-add-the-layer-to-QGIS-7.1.2.2\">Now let's add the layer to QGIS</a></span></li></ul></li><li><span><a href=\"#QGIS-Add-Layer\" data-toc-modified-id=\"QGIS-Add-Layer-7.1.3\">QGIS Add Layer</a></span></li><li><span><a href=\"#iface\" data-toc-modified-id=\"iface-7.1.4\">iface</a></span><ul class=\"toc-item\"><li><span><a href=\"#We-can-store-the-Vector-layer-in-memory-to-access-it's-properties\" data-toc-modified-id=\"We-can-store-the-Vector-layer-in-memory-to-access-it's-properties-7.1.4.1\">We can store the Vector layer in-memory to access it's properties</a></span></li><li><span><a href=\"#Show-this-layer's-attribute-Table\" data-toc-modified-id=\"Show-this-layer's-attribute-Table-7.1.4.2\">Show this layer's attribute Table</a></span></li></ul></li><li><span><a href=\"#Attribute-Table\" data-toc-modified-id=\"Attribute-Table-7.1.5\">Attribute Table</a></span><ul class=\"toc-item\"><li><span><a href=\"#Print-the-layer's-fieldnames\" data-toc-modified-id=\"Print-the-layer's-fieldnames-7.1.5.1\">Print the layer's fieldnames</a></span></li></ul></li><li><span><a href=\"#Print-field-names\" data-toc-modified-id=\"Print-field-names-7.1.6\">Print field names</a></span><ul class=\"toc-item\"><li><span><a href=\"#Access-individual-features-(rows)-in-the-vector-layer\" data-toc-modified-id=\"Access-individual-features-(rows)-in-the-vector-layer-7.1.6.1\">Access individual features (rows) in the vector layer</a></span></li></ul></li><li><span><a href=\"#Feature-Rows\" data-toc-modified-id=\"Feature-Rows-7.1.7\">Feature Rows</a></span><ul class=\"toc-item\"><li><span><a href=\"#Apply-a-Query\" data-toc-modified-id=\"Apply-a-Query-7.1.7.1\">Apply a Query</a></span></li></ul></li><li><span><a href=\"#Query-Layer\" data-toc-modified-id=\"Query-Layer-7.1.8\">Query Layer</a></span><ul class=\"toc-item\"><li><span><a href=\"#Change-the-Color-of-the-Feature\" data-toc-modified-id=\"Change-the-Color-of-the-Feature-7.1.8.1\">Change the Color of the Feature</a></span></li></ul></li><li><span><a href=\"#Layer-Color\" data-toc-modified-id=\"Layer-Color-7.1.9\">Layer Color</a></span><ul class=\"toc-item\"><li><span><a href=\"#Refresh-the-Layer-Tree-View\" data-toc-modified-id=\"Refresh-the-Layer-Tree-View-7.1.9.1\">Refresh the Layer Tree View</a></span></li></ul></li><li><span><a href=\"#Refresh-Layer-Tree-View\" data-toc-modified-id=\"Refresh-Layer-Tree-View-7.1.10\">Refresh Layer Tree View</a></span></li></ul></li><li><span><a href=\"#Running-a-Buffer-in-PyQGIS\" data-toc-modified-id=\"Running-a-Buffer-in-PyQGIS-7.2\">Running a Buffer in PyQGIS</a></span><ul class=\"toc-item\"><li><ul class=\"toc-item\"><li><span><a href=\"#Set-the-path-to-our-point-layer-in-our-GeoPacakge\" data-toc-modified-id=\"Set-the-path-to-our-point-layer-in-our-GeoPacakge-7.2.0.1\">Set the path to our point layer in our GeoPacakge</a></span></li><li><span><a href=\"#Run-the-processing\" data-toc-modified-id=\"Run-the-processing-7.2.0.2\">Run the processing</a></span></li><li><span><a href=\"#Add-the-Map-Layer\" data-toc-modified-id=\"Add-the-Map-Layer-7.2.0.3\">Add the Map Layer</a></span></li></ul></li><li><span><a href=\"#Buffer-Layer-in-View\" data-toc-modified-id=\"Buffer-Layer-in-View-7.2.1\">Buffer Layer in View</a></span></li></ul></li><li><span><a href=\"#Learn-more-with-PyQGIS-101:-Introduction-to-QGIS-Python-programming-for-non-programmers\" data-toc-modified-id=\"Learn-more-with-PyQGIS-101:-Introduction-to-QGIS-Python-programming-for-non-programmers-7.3\">Learn more with <a href=\"https://anitagraser.com/pyqgis-101-introduction-to-qgis-python-programming-for-non-programmers/\" target=\"_blank\">PyQGIS 101: Introduction to QGIS Python programming for non-programmers</a></a></span><ul class=\"toc-item\"><li><ul class=\"toc-item\"><li><span><a href=\"#Using-PyQGIS-in-standalone-scripts\" data-toc-modified-id=\"Using-PyQGIS-in-standalone-scripts-7.3.0.1\"><a href=\"https://docs.qgis.org/testing/en/docs/pyqgis_developer_cookbook/intro.html#using-pyqgis-in-standalone-scripts\" target=\"_blank\">Using PyQGIS in standalone scripts</a></a></span></li><li><span><a href=\"#Running-Custom-Applications\" data-toc-modified-id=\"Running-Custom-Applications-7.3.0.2\"><a href=\"https://docs.qgis.org/testing/en/docs/pyqgis_developer_cookbook/intro.html#running-custom-applications\" target=\"_blank\">Running Custom Applications</a></a></span></li></ul></li></ul></li></ul></li></ul></div>"
   ]
  },
  {
   "cell_type": "markdown",
   "metadata": {},
   "source": [
    "# Learning Objectives\n",
    "\n",
    "\n",
    "* Python for QGIS\n",
    "\n",
    "\n",
    "### Fork and Clone this Lesson Repo\n",
    "\n",
    "https://github.com/pratt-savi-810/pratt-savi-810-2020-03-lesson_13\n",
    "\n",
    "\n"
   ]
  },
  {
   "cell_type": "markdown",
   "metadata": {},
   "source": [
    "## Send me via Slack 3 Options for hour-long one-on-one meeting for this week.\n",
    "\n",
    "Excluding Thursday afternoon/evening (anytime after 2 pm). \n",
    "\n",
    "Ex. \n",
    "\n",
    "* Wednesday - 3 pm\n",
    "* Thursday - 9 am\n",
    "* Friday - 11 am"
   ]
  },
  {
   "cell_type": "markdown",
   "metadata": {},
   "source": [
    "# How to do Map Stuff\n",
    "\n",
    "\n",
    "Schedule for How to do Map Stuff: A Live Community Sharing Event\t\t\t\t\n",
    "April 29th in the Americas/Europe/Africa, April 30th in East Asia & the Pacific\t\t\t\t\n",
    "\t\t\n",
    "For more information: https://somethingaboutmaps.wordpress.com/2020/03/19/how-to-do-map-stuff/\t\t\t\t\n",
    "Suggested social media hashtags: #mapstuff #HtdMS\t\t\t\t\n",
    "[![](https://raw.githubusercontent.com/pratt-savi-810/images/master/how_to_do_map_stuff.png)](https://docs.google.com/spreadsheets/d/1TYCFBE5dnIW127Uu_aMVjWGJ_0vBB8RX-4UTqZDoric/edit#gid=0)\n"
   ]
  },
  {
   "cell_type": "markdown",
   "metadata": {},
   "source": [
    "# Import Libraries\n",
    "\n",
    "Let's `import` some of the libraries we've already used. "
   ]
  },
  {
   "cell_type": "code",
   "execution_count": 1,
   "metadata": {},
   "outputs": [],
   "source": [
    "import os\n",
    "import sys\n",
    "module_path = os.path.abspath(os.path.join('..'))\n",
    "if module_path not in sys.path:\n",
    "    sys.path.append(module_path)\n",
    "    \n",
    "\n",
    "from IPython.display import IFrame\n",
    "import pandas as pd\n",
    "import geopandas as gpd\n",
    "import matplotlib.pyplot as plt\n",
    "import numpy as np\n",
    "import missingno as msno\n",
    "import seaborn as sns\n",
    "import matplotlib.patches as patches\n",
    "import warnings\n",
    "import networkx as nx\n",
    "import osmnx as ox\n",
    "import requests\n",
    "import matplotlib.cm as cm\n",
    "import matplotlib.colors as colors\n",
    "ox.config(use_cache=True, log_console=True) \n",
    "warnings.filterwarnings('ignore')\n",
    "warnings.simplefilter('ignore')\n",
    "from IPython.display import IFrame\n",
    "\n",
    "\n",
    "%matplotlib inline\n",
    "%load_ext autoreload\n",
    "%autoreload 2\n",
    "\n",
    "# IFrame(src='https://commons.pratt.edu/savi/', width=700, height=400)"
   ]
  },
  {
   "cell_type": "markdown",
   "metadata": {},
   "source": [
    "### Let's Download Natural Earth's GeoPackage to our `data/` folder. \n",
    "\n",
    "http://naciscdn.org/naturalearth/packages/natural_earth_vector.gpkg.zip"
   ]
  },
  {
   "cell_type": "markdown",
   "metadata": {},
   "source": [
    "#### Import `urllib`"
   ]
  },
  {
   "cell_type": "code",
   "execution_count": 3,
   "metadata": {},
   "outputs": [],
   "source": [
    "import urllib"
   ]
  },
  {
   "cell_type": "markdown",
   "metadata": {},
   "source": [
    "#### We'll set up our file url"
   ]
  },
  {
   "cell_type": "code",
   "execution_count": 4,
   "metadata": {},
   "outputs": [],
   "source": [
    "file_url = 'http://naciscdn.org/naturalearth/packages/natural_earth_vector.gpkg.zip'"
   ]
  },
  {
   "cell_type": "markdown",
   "metadata": {},
   "source": [
    "#### Retrieve the .zip file with `urllib.request.urlretrieve`"
   ]
  },
  {
   "cell_type": "code",
   "execution_count": 5,
   "metadata": {},
   "outputs": [
    {
     "data": {
      "text/plain": [
       "('data/natural_earth_vector.gpkg.zip',\n",
       " <http.client.HTTPMessage at 0x1d32191c108>)"
      ]
     },
     "execution_count": 5,
     "metadata": {},
     "output_type": "execute_result"
    }
   ],
   "source": [
    "urllib.request.urlretrieve(file_url, 'data/natural_earth_vector.gpkg.zip')"
   ]
  },
  {
   "cell_type": "markdown",
   "metadata": {},
   "source": [
    "#### Import `zipfile`"
   ]
  },
  {
   "cell_type": "code",
   "execution_count": 6,
   "metadata": {},
   "outputs": [],
   "source": [
    "import zipfile"
   ]
  },
  {
   "cell_type": "markdown",
   "metadata": {},
   "source": [
    "#### create our `ZipFile` object "
   ]
  },
  {
   "cell_type": "code",
   "execution_count": 8,
   "metadata": {},
   "outputs": [],
   "source": [
    "z = zipfile.ZipFile('data/natural_earth_vector.gpkg.zip')"
   ]
  },
  {
   "cell_type": "markdown",
   "metadata": {},
   "source": [
    "#### Extract the object"
   ]
  },
  {
   "cell_type": "code",
   "execution_count": 9,
   "metadata": {},
   "outputs": [],
   "source": [
    "z.extractall('data/natural_earth_vector.gpkg')"
   ]
  },
  {
   "cell_type": "markdown",
   "metadata": {},
   "source": [
    "# Let's Open up QGIS 3.x\n",
    "\n",
    "![qgis](https://qgis.org/en/_static/images/about-screenshot.png)\n",
    "_Source: [https://qgis.org/en/site/about/index.html](https://qgis.org/en/site/about/index.html)_\n",
    "\n",
    "> **QGIS** is a user friendly Open Source Geographic Information System (GIS) licensed under the GNU General Public License. QGIS is an official project of the Open Source Geospatial Foundation (OSGeo). It runs on Linux, Unix, Mac OSX, Windows and Android and supports numerous vector, raster, and database formats and functionalities. Source: https://qgis.org/en/site/about/index.html\n",
    "\n",
    "\n",
    "## [PyQGIS Developer Cookbook](https://docs.qgis.org/testing/en/docs/pyqgis_developer_cookbook/index.html)\n",
    "\n",
    "### [Cheat sheet for PyQGIS](https://docs.qgis.org/testing/en/docs/pyqgis_developer_cookbook/cheat_sheet.html)"
   ]
  },
  {
   "cell_type": "markdown",
   "metadata": {},
   "source": [
    "### QGIS Python Console\n",
    "![](https://raw.githubusercontent.com/pratt-savi-810/images/master/qgis_python_console.png)\n"
   ]
  },
  {
   "cell_type": "markdown",
   "metadata": {},
   "source": [
    "#### Let's define the layer we want to add\n",
    "\n",
    "```python\n",
    "layer = \"C:/Users/dun4g/OneDrive/Documents/GitHub/pratt-savi-810-2020-03-lesson_13/data/natural_earth_vector.gpkg/packages/natural_earth_vector.gpkg|layername=ne_10m_admin_0_countries\"\n",
    "```\n",
    "\n",
    "#### Now let's add the layer to QGIS\n",
    "\n",
    "```python\n",
    "\n",
    "iface.addVectorLayer(layer, \"countries\", \"ogr\")\n",
    "\n",
    "```\n",
    "\n",
    "### QGIS Add Layer\n",
    "![](https://raw.githubusercontent.com/pratt-savi-810/images/master/qgis_add_layer.png)\n"
   ]
  },
  {
   "cell_type": "markdown",
   "metadata": {},
   "source": [
    "### iface\n",
    "\n",
    "> **iface** is an **object** belonging to QGIS – something that has properties and behaviors we can use to interact with QGIS. iface is a very important object in QGIS because without it, we could not interact with QGIS or any layers loaded in our project. In our code we’ve told the iface object to execute one of the functions which is associated with it – in this case the addVectorLayer function. Different objects are associated with different functions. Just to make life confusing, functions are sometimes called methods. You can find [a list of all functions in the official PyQGIS documentation](https://qgis.org/pyqgis/master/gui/QgisInterface.html). Source: https://anitagraser.com/pyqgis-101-introduction-to-qgis-python-programming-for-non-programmers/pyqgis-101-loading-a-vector-layer/"
   ]
  },
  {
   "cell_type": "markdown",
   "metadata": {},
   "source": [
    "#### We can store the Vector layer in-memory to access it's properties\n",
    "\n",
    "```python\n",
    "\n",
    "vlayer = iface.addVectorLayer(layer, \"countries2\", \"ogr\")\n",
    "\n",
    "```"
   ]
  },
  {
   "cell_type": "markdown",
   "metadata": {},
   "source": [
    "#### Show this layer's attribute Table\n",
    "\n",
    "```python\n",
    "\n",
    "iface.showAttributeTable(vlayer)\n",
    "\n",
    "```\n",
    "\n",
    "### Attribute Table\n",
    "\n",
    "![](https://raw.githubusercontent.com/pratt-savi-810/images/master/qgis_attribute.png)\n"
   ]
  },
  {
   "cell_type": "markdown",
   "metadata": {},
   "source": [
    "#### Print the layer's fieldnames\n",
    "\n",
    "```python\n",
    "\n",
    "for field in vlayer.fields():\n",
    "    # must hit 4 empty spaces\n",
    "    print(field.name())\n",
    "    \n",
    "```\n",
    "\n",
    "### Print field names\n",
    "\n",
    "![](https://raw.githubusercontent.com/pratt-savi-810/images/master/qgis_field_names.png)\n"
   ]
  },
  {
   "cell_type": "markdown",
   "metadata": {},
   "source": [
    "#### Access individual features (rows) in the vector layer\n",
    "\n",
    "```python\n",
    "\n",
    "for feature in vlayer.getFeatures():\n",
    "    print(feature[\"ADMIN\"])\n",
    "\n",
    "\n",
    "```\n",
    "\n",
    "### Feature Rows\n",
    "\n",
    "![](https://raw.githubusercontent.com/pratt-savi-810/images/master/qgis_feature_rows.png)\n"
   ]
  },
  {
   "cell_type": "markdown",
   "metadata": {},
   "source": [
    "#### Apply a Query \n",
    "\n",
    "\n",
    "```python\n",
    "\n",
    "vlayer.setSubsetString(\"ADMIN LIKE 'A%'\")\n",
    "\n",
    "for feature in vlayer.getFeatures():\n",
    "    print(feature[\"ADMIN\"])\n",
    "    \n",
    "\n",
    "```\n",
    "\n",
    "\n",
    "### Query Layer \n",
    "\n",
    "![](https://raw.githubusercontent.com/pratt-savi-810/images/master/qgis_query_layer.png)\n"
   ]
  },
  {
   "cell_type": "markdown",
   "metadata": {},
   "source": [
    "#### Change the Color of the Feature\n",
    "\n",
    "```python\n",
    "\n",
    "vlayer.renderer().symbol().setColor(QColor(\"blue\"))\n",
    "vlayer.triggerRepaint()\n",
    "\n",
    "\n",
    "```\n",
    "\n",
    "### Layer Color \n",
    "\n",
    "![](https://raw.githubusercontent.com/pratt-savi-810/images/master/qgis_layer_color.png)\n"
   ]
  },
  {
   "cell_type": "markdown",
   "metadata": {},
   "source": [
    "#### Refresh the Layer Tree View\n",
    "\n",
    "```python\n",
    "\n",
    "iface.layerTreeView().refreshLayerSymbology(vlayer.id())\n",
    "\n",
    "```\n",
    "\n",
    "### Refresh Layer Tree View\n",
    "\n",
    "![](https://raw.githubusercontent.com/pratt-savi-810/images/master/qgis_refresh_view.png)\n"
   ]
  },
  {
   "cell_type": "markdown",
   "metadata": {},
   "source": [
    "## Running a Buffer in PyQGIS"
   ]
  },
  {
   "cell_type": "markdown",
   "metadata": {},
   "source": [
    "#### Set the path to our point layer in our GeoPacakge\n",
    "\n",
    "```python\n",
    "\n",
    "point_layer = \"C:/Users/dun4g/OneDrive/Documents/GitHub/pratt-savi-810-2020-03-lesson_13/data/natural_earth_vector.gpkg/packages/natural_earth_vector.gpkg|layername=ne_110m_populated_places\"\n",
    "\n",
    "```\n",
    "\n",
    "#### To Add the point layer if necessary\n",
    "```python\n",
    "\n",
    "vlayer = iface.addVectorLayer(point_layer, \"points\", \"ogr\")\n",
    "\n",
    "```\n",
    "\n",
    "#### Run the processing\n",
    "\n",
    "```python\n",
    "\n",
    "result = processing.run(\n",
    "    \"native:buffer\",   # name of the geoprocessing operation \n",
    "    {\n",
    "        'INPUT': point_layer,\n",
    "        'DISTANCE':10,  # degrees in this case\n",
    "        'SEGMENTS':5,\n",
    "        'END_CAP_STYLE':0,\n",
    "        'JOIN_STYLE':0,\n",
    "        'MITER_LIMIT':2,\n",
    "        'DISSOLVE':False,\n",
    "        'OUTPUT':'memory:',\n",
    "    }\n",
    ")\n",
    "```\n",
    "\n",
    "#### Add the Map Layer\n",
    "\n",
    "\n",
    "```python\n",
    "\n",
    "QgsProject.instance().addMapLayer(result['OUTPUT'])\n",
    "\n",
    "```\n",
    "\n",
    "### Buffer Layer in View\n",
    "\n",
    "![](https://raw.githubusercontent.com/pratt-savi-810/images/master/qgis_buffer_layer.png)\n"
   ]
  },
  {
   "cell_type": "markdown",
   "metadata": {},
   "source": [
    "## Learn more with [PyQGIS 101: Introduction to QGIS Python programming for non-programmers](https://anitagraser.com/pyqgis-101-introduction-to-qgis-python-programming-for-non-programmers/)"
   ]
  },
  {
   "cell_type": "markdown",
   "metadata": {},
   "source": [
    "#### [Using PyQGIS in standalone scripts](https://docs.qgis.org/testing/en/docs/pyqgis_developer_cookbook/intro.html#using-pyqgis-in-standalone-scripts)\n",
    "\n",
    "> To start a standalone script, initialize the QGIS resources at the beginning of the script:\n",
    "\n",
    "```python\n",
    "from qgis.core import *\n",
    "\n",
    "# Supply path to qgis install location\n",
    "QgsApplication.setPrefixPath(\"/path/to/qgis/installation\", True)\n",
    "\n",
    "# Create a reference to the QgsApplication.  Setting the\n",
    "# second argument to False disables the GUI.\n",
    "qgs = QgsApplication([], False)\n",
    "\n",
    "# Load providers\n",
    "qgs.initQgis()\n",
    "\n",
    "# Write your code here to load some layers, use processing\n",
    "# algorithms, etc.\n",
    "\n",
    "# Finally, exitQgis() is called to remove the\n",
    "# provider and layer registries from memory\n",
    "qgs.exitQgis()\n",
    "\n",
    "``` \n",
    "Source: https://docs.qgis.org/testing/en/docs/pyqgis_developer_cookbook/intro.html#using-pyqgis-in-standalone-scripts)\n"
   ]
  },
  {
   "cell_type": "markdown",
   "metadata": {},
   "source": [
    "#### [Running Custom Applications](https://docs.qgis.org/testing/en/docs/pyqgis_developer_cookbook/intro.html#running-custom-applications)\n",
    "\n",
    "> This can be fixed by setting the PYTHONPATH environment variable. In the following commands, <qgispath> should be replaced with your actual QGIS installation path:     \n",
    "* on Linux: export PYTHONPATH=/<qgispath>/share/qgis/python\n",
    "* on Windows: set PYTHONPATH=c:\\<qgispath>\\python\n",
    "* on macOS: export PYTHONPATH=/<qgispath>/Contents/Resources/python   \n",
    "   Source: https://docs.qgis.org/testing/en/docs/pyqgis_developer_cookbook/intro.html#using-pyqgis-in-standalone-scripts"
   ]
  },
  {
   "cell_type": "code",
   "execution_count": null,
   "metadata": {},
   "outputs": [],
   "source": []
  }
 ],
 "metadata": {
  "kernelspec": {
   "display_name": "Python 3",
   "language": "python",
   "name": "python3"
  },
  "language_info": {
   "codemirror_mode": {
    "name": "ipython",
    "version": 3
   },
   "file_extension": ".py",
   "mimetype": "text/x-python",
   "name": "python",
   "nbconvert_exporter": "python",
   "pygments_lexer": "ipython3",
   "version": "3.7.7"
  },
  "toc": {
   "base_numbering": 1,
   "nav_menu": {},
   "number_sections": false,
   "sideBar": true,
   "skip_h1_title": false,
   "title_cell": "Table of Contents",
   "title_sidebar": "Contents",
   "toc_cell": true,
   "toc_position": {},
   "toc_section_display": true,
   "toc_window_display": true
  }
 },
 "nbformat": 4,
 "nbformat_minor": 4
}
